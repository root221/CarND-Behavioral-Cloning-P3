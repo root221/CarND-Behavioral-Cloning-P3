{
 "cells": [
  {
   "cell_type": "code",
   "execution_count": 1,
   "metadata": {},
   "outputs": [],
   "source": [
    "import csv\n",
    "import matplotlib.pyplot as plt\n",
    "import matplotlib.image as mpimg\n",
    "import numpy as np\n",
    "import h5py\n",
    "% matplotlib inline"
   ]
  },
  {
   "cell_type": "code",
   "execution_count": 31,
   "metadata": {},
   "outputs": [],
   "source": [
    "lines = []\n",
    "with open('../data/driving_log.csv') as csvfile:\n",
    "    reader = csv.reader(csvfile)\n",
    "    for line in reader:\n",
    "        lines.append(line)\n",
    "\n",
    "images = []\n",
    "measurements = []\n",
    "for line in lines:\n",
    "    filename = line[0].split('/')[-1]\n",
    "    current_path = '../data/IMG/' + filename\n",
    "    image = mpimg.imread(current_path)\n",
    "    images.append(image)\n",
    "    measurement = float(line[3]) # line[3] type is str\n",
    "    measurements.append(measurement)\n",
    "    \n",
    "# keras require numpy format\n",
    "X_train = np.array(images)\n",
    "y_train = np.array(measurements)"
   ]
  },
  {
   "cell_type": "code",
   "execution_count": 32,
   "metadata": {},
   "outputs": [],
   "source": [
    "from keras.models import Sequential\n",
    "from keras.layers import Flatten, Dense\n",
    "from keras.layers.convolutional import Convolution2D\n",
    "from keras.layers import MaxPooling2D"
   ]
  },
  {
   "cell_type": "code",
   "execution_count": 18,
   "metadata": {},
   "outputs": [
    {
     "name": "stdout",
     "output_type": "stream",
     "text": [
      "Train on 2 samples, validate on 1 samples\n",
      "Epoch 1/6\n",
      "2/2 [==============================] - 0s - loss: 13254.2715 - val_loss: 157893504.0000\n",
      "Epoch 2/6\n",
      "2/2 [==============================] - 0s - loss: 157887328.0000 - val_loss: 3132516.7500\n",
      "Epoch 3/6\n",
      "2/2 [==============================] - 0s - loss: 3132683.7500 - val_loss: 70034296.0000\n",
      "Epoch 4/6\n",
      "2/2 [==============================] - 0s - loss: 70028944.0000 - val_loss: 108148624.0000\n",
      "Epoch 5/6\n",
      "2/2 [==============================] - 0s - loss: 108140768.0000 - val_loss: 46454076.0000\n",
      "Epoch 6/6\n",
      "2/2 [==============================] - 0s - loss: 46450276.0000 - val_loss: 779379.4375\n"
     ]
    }
   ],
   "source": [
    "model = Sequential()\n",
    "model.add(Flatten(input_shape=(160,320,3)))\n",
    "model.add(Dense(1))\n",
    "model.compile(loss='mse', optimizer='adam')\n",
    "model.fit(X_train,y_train,validation_split=0.2,shuffle=True,epochs=6)\n",
    "model.save('model.h5')"
   ]
  },
  {
   "cell_type": "code",
   "execution_count": 33,
   "metadata": {},
   "outputs": [
    {
     "name": "stderr",
     "output_type": "stream",
     "text": [
      "/home/skye/.local/lib/python3.5/site-packages/ipykernel_launcher.py:3: UserWarning: Update your `Conv2D` call to the Keras 2 API: `Conv2D(6, (5, 5), activation=\"relu\")`\n",
      "  This is separate from the ipykernel package so we can avoid doing imports until\n",
      "/home/skye/.local/lib/python3.5/site-packages/ipykernel_launcher.py:5: UserWarning: Update your `Conv2D` call to the Keras 2 API: `Conv2D(16, (5, 5), activation=\"relu\")`\n",
      "  \"\"\"\n"
     ]
    },
    {
     "name": "stdout",
     "output_type": "stream",
     "text": [
      "Train on 1063 samples, validate on 266 samples\n",
      "Epoch 1/8\n",
      "1063/1063 [==============================] - 2s - loss: 27.5977 - val_loss: 0.0217\n",
      "Epoch 2/8\n",
      "1063/1063 [==============================] - 1s - loss: 0.0365 - val_loss: 0.0442\n",
      "Epoch 3/8\n",
      "1063/1063 [==============================] - 1s - loss: 0.0304 - val_loss: 0.0278\n",
      "Epoch 4/8\n",
      "1063/1063 [==============================] - 1s - loss: 0.0236 - val_loss: 0.0228\n",
      "Epoch 5/8\n",
      "1063/1063 [==============================] - 1s - loss: 0.0219 - val_loss: 0.0217\n",
      "Epoch 6/8\n",
      "1063/1063 [==============================] - 1s - loss: 0.0214 - val_loss: 0.0213\n",
      "Epoch 7/8\n",
      "1063/1063 [==============================] - 1s - loss: 0.0209 - val_loss: 0.0211\n",
      "Epoch 8/8\n",
      "1063/1063 [==============================] - 1s - loss: 0.0205 - val_loss: 0.0210\n"
     ]
    }
   ],
   "source": [
    "model = Sequential()\n",
    "model.add(Lambda(lambda x:(x/255.0) - 0.5,input_shape=(160,320,3)))\n",
    "model.add(Convolution2D(6,5,5,activation='relu'))\n",
    "model.add(MaxPooling2D())\n",
    "model.add(Convolution2D(16,5,5,activation='relu'))\n",
    "model.add(MaxPooling2D())\n",
    "model.add(Flatten())\n",
    "model.add(Dense(120))\n",
    "model.add(Dense(84))\n",
    "model.add(Dense(1))\n",
    "model.compile(loss='mse', optimizer='adam')\n",
    "model.fit(X_train,y_train,validation_split=0.2,shuffle=True,epochs=8)\n",
    "model.save('model.h5')"
   ]
  },
  {
   "cell_type": "code",
   "execution_count": null,
   "metadata": {},
   "outputs": [],
   "source": []
  }
 ],
 "metadata": {
  "kernelspec": {
   "display_name": "Python 3",
   "language": "python",
   "name": "python3"
  },
  "language_info": {
   "codemirror_mode": {
    "name": "ipython",
    "version": 3
   },
   "file_extension": ".py",
   "mimetype": "text/x-python",
   "name": "python",
   "nbconvert_exporter": "python",
   "pygments_lexer": "ipython3",
   "version": "3.5.2"
  }
 },
 "nbformat": 4,
 "nbformat_minor": 2
}
